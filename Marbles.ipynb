{
 "cells": [
  {
   "cell_type": "code",
   "execution_count": 1,
   "metadata": {
    "collapsed": true
   },
   "outputs": [],
   "source": [
    "import random"
   ]
  },
  {
   "cell_type": "code",
   "execution_count": 4,
   "metadata": {
    "collapsed": false
   },
   "outputs": [
    {
     "name": "stdout",
     "output_type": "stream",
     "text": [
      "The probability of getting a red and then a blue is  0.2406\n",
      "The probability of getting a blue and then a red is  0.245\n"
     ]
    }
   ],
   "source": [
    "total = 12\n",
    "red = 8\n",
    "blue = 4\n",
    "iterations = 10000\n",
    "redred = 0\n",
    "blueblue = 0\n",
    "redblue = 0\n",
    "bluered = 0\n",
    "\n",
    "for i in range(iterations):\n",
    "    if random.random() < (red/total):\n",
    "        if random.random() < ((red-1) / (total-1)):\n",
    "            redred += 1\n",
    "            \n",
    "for i in range(iterations):    \n",
    "    if random.random() < (blue/total):\n",
    "        if random.random() < ((blue-1) / (total-1)):\n",
    "            blueblue += 1\n",
    "            \n",
    "for i in range(iterations):    \n",
    "    if random.random() < (red/total):\n",
    "        if random.random() < ((blue) / (total-1)):\n",
    "            redblue += 1\n",
    "            \n",
    "for i in range(iterations):    \n",
    "    if random.random() < (blue/total):\n",
    "        if random.random() < ((red) / (total-1)):\n",
    "            bluered += 1\n",
    "\n",
    "print(\"The probability of getting a red and then a blue is \", (redblue / iterations))\n",
    "print(\"The probability of getting a blue and then a red is \", (bluered / iterations))"
   ]
  },
  {
   "cell_type": "code",
   "execution_count": null,
   "metadata": {
    "collapsed": true
   },
   "outputs": [],
   "source": []
  }
 ],
 "metadata": {
  "kernelspec": {
   "display_name": "Python 3",
   "language": "python",
   "name": "python3"
  },
  "language_info": {
   "codemirror_mode": {
    "name": "ipython",
    "version": 3
   },
   "file_extension": ".py",
   "mimetype": "text/x-python",
   "name": "python",
   "nbconvert_exporter": "python",
   "pygments_lexer": "ipython3",
   "version": "3.6.0"
  }
 },
 "nbformat": 4,
 "nbformat_minor": 2
}
