{
 "cells": [
  {
   "cell_type": "code",
   "execution_count": 66,
   "metadata": {
    "collapsed": false
   },
   "outputs": [
    {
     "name": "stdout",
     "output_type": "stream",
     "text": [
      "!\n",
      "£\n",
      "$\n",
      "%\n",
      "^\n",
      "&\n",
      "*\n",
      "(\n",
      ")\n",
      "~\n"
     ]
    }
   ],
   "source": [
    "symbol=['!','£','$','%','^','&','*','(',')','~']\n",
    "i=1\n",
    "\n",
    "for i in range(10):\n",
    "    if(i < 10):\n",
    "        print(symbol[i])"
   ]
  },
  {
   "cell_type": "code",
   "execution_count": 67,
   "metadata": {
    "collapsed": false
   },
   "outputs": [
    {
     "name": "stdout",
     "output_type": "stream",
     "text": [
      "!\n",
      "£\n",
      "$\n",
      "%\n",
      "^\n",
      "&\n",
      "*\n",
      "(\n",
      ")\n",
      "~\n",
      "£!\n",
      "££\n",
      "£$\n",
      "£%\n",
      "£^\n",
      "£&\n",
      "£*\n",
      "£(\n",
      "£)\n",
      "£~\n",
      "$!\n",
      "$£\n",
      "$$\n",
      "$%\n",
      "$^\n",
      "$&\n",
      "$*\n",
      "$(\n",
      "$)\n",
      "$~\n",
      "%!\n",
      "%£\n",
      "%$\n",
      "%%\n",
      "%^\n",
      "%&\n",
      "%*\n",
      "%(\n",
      "%)\n",
      "%~\n",
      "^!\n",
      "^£\n",
      "^$\n",
      "^%\n",
      "^^\n",
      "^&\n",
      "^*\n",
      "^(\n",
      "^)\n",
      "^~\n",
      "&!\n",
      "&£\n",
      "&$\n",
      "&%\n",
      "&^\n",
      "&&\n",
      "&*\n",
      "&(\n",
      "&)\n",
      "&~\n",
      "*!\n",
      "*£\n",
      "*$\n",
      "*%\n",
      "*^\n",
      "*&\n",
      "**\n",
      "*(\n",
      "*)\n",
      "*~\n",
      "(!\n",
      "(£\n",
      "($\n",
      "(%\n",
      "(^\n",
      "(&\n",
      "(*\n",
      "((\n",
      "()\n",
      "(~\n",
      ")!\n",
      ")£\n",
      ")$\n",
      ")%\n",
      ")^\n",
      ")&\n",
      ")*\n",
      ")(\n",
      "))\n",
      ")~\n",
      "~!\n",
      "~£\n",
      "~$\n",
      "~%\n",
      "~^\n",
      "~&\n",
      "~*\n",
      "~(\n",
      "~)\n",
      "~~\n"
     ]
    }
   ],
   "source": [
    "for i in range(100):\n",
    "    if(i < 10):\n",
    "        print(symbol[i])\n",
    "    else:\n",
    "        print(symbol[i // 10] + symbol[i % 10]) "
   ]
  },
  {
   "cell_type": "code",
   "execution_count": null,
   "metadata": {
    "collapsed": true
   },
   "outputs": [],
   "source": []
  }
 ],
 "metadata": {
  "kernelspec": {
   "display_name": "Python 3",
   "language": "python",
   "name": "python3"
  },
  "language_info": {
   "codemirror_mode": {
    "name": "ipython",
    "version": 3
   },
   "file_extension": ".py",
   "mimetype": "text/x-python",
   "name": "python",
   "nbconvert_exporter": "python",
   "pygments_lexer": "ipython3",
   "version": "3.5.1"
  }
 },
 "nbformat": 4,
 "nbformat_minor": 0
}
